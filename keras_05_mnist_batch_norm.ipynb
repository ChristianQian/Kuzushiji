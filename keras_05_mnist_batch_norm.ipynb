{
 "cells": [
  {
   "cell_type": "markdown",
   "metadata": {
    "id": "Lvo0t7XVIkWZ"
   },
   "source": [
    "### Parameters"
   ]
  },
  {
   "cell_type": "code",
   "execution_count": 1,
   "metadata": {
    "id": "cCpkS9C_H7Tl"
   },
   "outputs": [],
   "source": [
    "BATCH_SIZE = 64\n",
    "EPOCHS = 10\n",
    "\n",
    "nbtrain_img  = 'data/mnist_train_imgs.npy'\n",
    "nbtrain_lab  = 'data/mnist_train_labels.npy'\n",
    "nbvalid_img = 'data/mnist_test_imgs.npy'\n",
    "nbvalid_lab = 'data/mnist_test_labels.npy'"
   ]
  },
  {
   "cell_type": "markdown",
   "metadata": {
    "id": "qpiJj8ym0v0-"
   },
   "source": [
    "### Imports"
   ]
  },
  {
   "cell_type": "code",
   "execution_count": 2,
   "metadata": {
    "colab": {
     "base_uri": "https://localhost:8080/"
    },
    "id": "AoilhmYe1b5t",
    "outputId": "47b7fdfa-b686-4f33-af43-348a36869b16"
   },
   "outputs": [
    {
     "name": "stdout",
     "output_type": "stream",
     "text": [
      "Tensorflow version 2.3.1\n"
     ]
    }
   ],
   "source": [
    "import os, re, math, json, shutil, pprint\n",
    "import PIL.Image, PIL.ImageFont, PIL.ImageDraw\n",
    "from keras.preprocessing.image import ImageDataGenerator\n",
    "import IPython.display as display\n",
    "import numpy as np\n",
    "import pandas as pd\n",
    "import tensorflow as tf\n",
    "from matplotlib import pyplot as plt\n",
    "print(\"Tensorflow version \" + tf.__version__)"
   ]
  },
  {
   "cell_type": "code",
   "execution_count": 3,
   "metadata": {
    "cellView": "form",
    "id": "qhdz68Xm3Z4Z"
   },
   "outputs": [],
   "source": [
    "#@title visualization utilities [RUN ME]\n",
    "\"\"\"\n",
    "This cell contains helper functions used for visualization\n",
    "and downloads only. You can skip reading it. There is very\n",
    "little useful Keras/Tensorflow code here.\n",
    "\"\"\"\n",
    "\n",
    "# Matplotlib config\n",
    "plt.ioff()\n",
    "plt.rc('image', cmap='gray_r')\n",
    "plt.rc('grid', linewidth=1)\n",
    "plt.rc('xtick', top=False, bottom=False, labelsize='large')\n",
    "plt.rc('ytick', left=False, right=False, labelsize='large')\n",
    "plt.rc('axes', facecolor='F8F8F8', titlesize=\"large\", edgecolor='white')\n",
    "plt.rc('text', color='a8151a')\n",
    "plt.rc('figure', facecolor='F0F0F0', figsize=(16,9))\n",
    "# Matplotlib fonts\n",
    "MATPLOTLIB_FONT_DIR = os.path.join(os.path.dirname(plt.__file__), \"mpl-data/fonts/ttf\")\n",
    "\n",
    "# pull a batch from the datasets. This code is not very nice, it gets much better in eager mode (TODO)\n",
    "def dataset_to_numpy_util(training_dataset, validation_dataset, N):\n",
    "  \n",
    "  # get one batch from each: 10000 validation digits, N training digits\n",
    "  batch_train_ds = training_dataset.unbatch().batch(N)\n",
    "  \n",
    "  # eager execution: loop through datasets normally\n",
    "  if tf.executing_eagerly():\n",
    "    for validation_digits, validation_labels in validation_dataset:\n",
    "      validation_digits = validation_digits.numpy()\n",
    "      validation_labels = validation_labels.numpy()\n",
    "      break\n",
    "    for training_digits, training_labels in batch_train_ds:\n",
    "      training_digits = training_digits.numpy()\n",
    "      training_labels = training_labels.numpy()\n",
    "      break\n",
    "    \n",
    "  else:\n",
    "    v_images, v_labels = validation_dataset.make_one_shot_iterator().get_next()\n",
    "    t_images, t_labels = batch_train_ds.make_one_shot_iterator().get_next()\n",
    "    # Run once, get one batch. Session.run returns numpy results\n",
    "    with tf.Session() as ses:\n",
    "      (validation_digits, validation_labels,\n",
    "       training_digits, training_labels) = ses.run([v_images, v_labels, t_images, t_labels])\n",
    "  \n",
    "  # these were one-hot encoded in the dataset\n",
    "  validation_labels = np.argmax(validation_labels, axis=1)\n",
    "  training_labels = np.argmax(training_labels, axis=1)\n",
    "  \n",
    "  return (training_digits, training_labels,\n",
    "          validation_digits, validation_labels)\n",
    "\n",
    "# create digits from local fonts for testing\n",
    "def create_digits_from_local_fonts(n):\n",
    "  font_labels = []\n",
    "  img = PIL.Image.new('LA', (28*n, 28), color = (0,255)) # format 'LA': black in channel 0, alpha in channel 1\n",
    "  font1 = PIL.ImageFont.truetype(os.path.join(MATPLOTLIB_FONT_DIR, 'DejaVuSansMono-Oblique.ttf'), 25)\n",
    "  font2 = PIL.ImageFont.truetype(os.path.join(MATPLOTLIB_FONT_DIR, 'STIXGeneral.ttf'), 25)\n",
    "  d = PIL.ImageDraw.Draw(img)\n",
    "  for i in range(n):\n",
    "    font_labels.append(i%10)\n",
    "    d.text((7+i*28,0 if i<10 else -4), str(i%10), fill=(255,255), font=font1 if i<10 else font2)\n",
    "  font_digits = np.array(img.getdata(), np.float32)[:,0] / 255.0 # black in channel 0, alpha in channel 1 (discarded)\n",
    "  font_digits = np.reshape(np.stack(np.split(np.reshape(font_digits, [28, 28*n]), n, axis=1), axis=0), [n, 28*28])\n",
    "  return font_digits, font_labels\n",
    "\n",
    "# utility to display a row of digits with their predictions\n",
    "def display_digits(digits, predictions, labels, title, n):\n",
    "  fig = plt.figure(figsize=(13,3))\n",
    "  digits = np.reshape(digits, [n, 28, 28])\n",
    "  digits = np.swapaxes(digits, 0, 1)\n",
    "  digits = np.reshape(digits, [28, 28*n])\n",
    "  plt.yticks([])\n",
    "  plt.xticks([28*x+14 for x in range(n)], predictions)\n",
    "  plt.grid(b=None)\n",
    "  for i,t in enumerate(plt.gca().xaxis.get_ticklabels()):\n",
    "    if predictions[i] != labels[i]: t.set_color('red') # bad predictions in red\n",
    "  plt.imshow(digits)\n",
    "  plt.grid(None)\n",
    "  plt.title(title)\n",
    "  display.display(fig)\n",
    "  \n",
    "# utility to display multiple rows of digits, sorted by unrecognized/recognized status\n",
    "def display_top_unrecognized(digits, predictions, labels, n, lines):\n",
    "  idx = np.argsort(predictions==labels) # sort order: unrecognized first\n",
    "  for i in range(lines):\n",
    "    display_digits(digits[idx][i*n:(i+1)*n], predictions[idx][i*n:(i+1)*n], labels[idx][i*n:(i+1)*n],\n",
    "                   \"{} sample validation digits out of {} with bad predictions in red and sorted first\".format(n*lines, len(digits)) if i==0 else \"\", n)\n",
    "\n",
    "def plot_learning_rate(lr_func, epochs):\n",
    "  xx = np.arange(epochs+1, dtype=np.float)\n",
    "  y = [lr_decay(x) for x in xx]\n",
    "  fig, ax = plt.subplots(figsize=(9, 6))\n",
    "  ax.set_xlabel('epochs')\n",
    "  ax.set_title('Learning rate\\ndecays from {:0.3g} to {:0.3g}'.format(y[0], y[-2]))\n",
    "  ax.minorticks_on()\n",
    "  ax.grid(True, which='major', axis='both', linestyle='-', linewidth=1)\n",
    "  ax.grid(True, which='minor', axis='both', linestyle=':', linewidth=0.5)\n",
    "  ax.step(xx,y, linewidth=3, where='post')\n",
    "  display.display(fig)\n",
    "\n",
    "class PlotTraining(tf.keras.callbacks.Callback):\n",
    "  def __init__(self, sample_rate=1, zoom=1):\n",
    "    self.sample_rate = sample_rate\n",
    "    self.step = 0\n",
    "    self.zoom = zoom\n",
    "    self.steps_per_epoch = 60000//BATCH_SIZE\n",
    "\n",
    "  def on_train_begin(self, logs={}):\n",
    "    self.batch_history = {}\n",
    "    self.batch_step = []\n",
    "    self.epoch_history = {}\n",
    "    self.epoch_step = []\n",
    "    self.fig, self.axes = plt.subplots(1, 2, figsize=(16, 7))\n",
    "    plt.ioff()\n",
    "\n",
    "  def on_batch_end(self, batch, logs={}):\n",
    "    if (batch % self.sample_rate) == 0:\n",
    "      self.batch_step.append(self.step)\n",
    "      for k,v in logs.items():\n",
    "        # do not log \"batch\" and \"size\" metrics that do not change\n",
    "        # do not log training accuracy \"acc\"\n",
    "        if k=='batch' or k=='size':# or k=='acc':\n",
    "          continue\n",
    "        self.batch_history.setdefault(k, []).append(v)\n",
    "    self.step += 1\n",
    "\n",
    "  def on_epoch_end(self, epoch, logs={}):\n",
    "    plt.close(self.fig)\n",
    "    self.axes[0].cla()\n",
    "    self.axes[1].cla()\n",
    "      \n",
    "    self.axes[0].set_ylim(0, 1.2/self.zoom)\n",
    "    self.axes[1].set_ylim(1-1/self.zoom/2, 1+0.1/self.zoom/2)\n",
    "    \n",
    "    self.epoch_step.append(self.step)\n",
    "    for k,v in logs.items():\n",
    "      # only log validation metrics\n",
    "      if not k.startswith('val_'):\n",
    "        continue\n",
    "      self.epoch_history.setdefault(k, []).append(v)\n",
    "\n",
    "    display.clear_output(wait=True)\n",
    "    \n",
    "    for k,v in self.batch_history.items():\n",
    "      self.axes[0 if k.endswith('loss') else 1].plot(np.array(self.batch_step) / self.steps_per_epoch, v, label=k)\n",
    "      \n",
    "    for k,v in self.epoch_history.items():\n",
    "      self.axes[0 if k.endswith('loss') else 1].plot(np.array(self.epoch_step) / self.steps_per_epoch, v, label=k, linewidth=3)\n",
    "      \n",
    "    self.axes[0].legend()\n",
    "    self.axes[1].legend()\n",
    "    self.axes[0].set_xlabel('epochs')\n",
    "    self.axes[1].set_xlabel('epochs')\n",
    "    self.axes[0].minorticks_on()\n",
    "    self.axes[0].grid(True, which='major', axis='both', linestyle='-', linewidth=1)\n",
    "    self.axes[0].grid(True, which='minor', axis='both', linestyle=':', linewidth=0.5)\n",
    "    self.axes[1].minorticks_on()\n",
    "    self.axes[1].grid(True, which='major', axis='both', linestyle='-', linewidth=1)\n",
    "    self.axes[1].grid(True, which='minor', axis='both', linestyle=':', linewidth=0.5)\n",
    "    display.display(self.fig)"
   ]
  },
  {
   "cell_type": "markdown",
   "metadata": {
    "id": "Lz1Zknfk4qCx"
   },
   "source": [
    "### tf.data.Dataset: parse files and prepare training and validation datasets\n",
    "Please read the [best practices for building](https://www.tensorflow.org/guide/performance/datasets) input pipelines with tf.data.Dataset"
   ]
  },
  {
   "cell_type": "code",
   "execution_count": 4,
   "metadata": {
    "id": "ZE8dgyPC1_6m"
   },
   "outputs": [],
   "source": [
    "AUTO = tf.data.experimental.AUTOTUNE\n",
    "\n",
    "def read_label(label):\n",
    "    label = tf.one_hot(label, 10)\n",
    "    return label\n",
    "  \n",
    "def read_image(image):\n",
    "    image = tf.cast(image, tf.float32)/256.0\n",
    "    image = tf.reshape(image, [28*28])\n",
    "    return image\n",
    "  \n",
    "def load_dataset(image_data, label_data):\n",
    "    imagedataset = tf.data.Dataset.from_tensor_slices(image_data)\n",
    "    imagedataset = imagedataset.map(read_image, num_parallel_calls=16)\n",
    "    labelsdataset = tf.data.Dataset.from_tensor_slices(label_data)\n",
    "    labelsdataset = labelsdataset.map(read_label, num_parallel_calls=16)\n",
    "    dataset = tf.data.Dataset.zip((imagedataset, labelsdataset))\n",
    "    return dataset \n",
    "  \n",
    "def get_training_dataset(image_file, label_file, batch_size):\n",
    "    dataset = load_dataset(image_file, label_file)\n",
    "    dataset = dataset.cache()  # this small dataset can be entirely cached in RAM, for TPU this is important to get good performance from such a small dataset\n",
    "    dataset = dataset.shuffle(5000, reshuffle_each_iteration=True)\n",
    "    dataset = dataset.repeat() # Mandatory for Keras for now\n",
    "    dataset = dataset.batch(batch_size, drop_remainder=True) # drop_remainder is important on TPU, batch size must be fixed\n",
    "    dataset = dataset.prefetch(AUTO)  # fetch next batches while training on the current one (-1: autotune prefetch buffer size)\n",
    "    return dataset\n",
    "  \n",
    "def get_validation_dataset(image_file, label_file):\n",
    "    dataset = load_dataset(image_file, label_file)\n",
    "    dataset = dataset.cache() # this small dataset can be entirely cached in RAM, for TPU this is important to get good performance from such a small dataset\n",
    "    dataset = dataset.batch(10000, drop_remainder=True) # 10000 items in eval dataset, all in one batch\n",
    "    dataset = dataset.repeat() # Mandatory for Keras for now\n",
    "    return dataset\n"
   ]
  },
  {
   "cell_type": "markdown",
   "metadata": {
    "id": "_fXo6GuvL3EB"
   },
   "source": [
    "### Let's have a look at the data"
   ]
  },
  {
   "cell_type": "code",
   "execution_count": 5,
   "metadata": {
    "id": "yZ4tjPKvL2eh"
   },
   "outputs": [],
   "source": [
    "train_img = np.load(nbtrain_img)\n",
    "train_lab = np.load(nbtrain_lab)\n",
    "valid_img = np.load(nbvalid_img)\n",
    "valid_lab = np.load(nbvalid_lab)\n"
   ]
  },
  {
   "cell_type": "code",
   "execution_count": 6,
   "metadata": {
    "id": "7FH_sLalHJpm"
   },
   "outputs": [],
   "source": [
    "training_dataset = get_training_dataset(train_img, train_lab, BATCH_SIZE)\n",
    "validation_dataset = get_validation_dataset(valid_img, valid_lab)"
   ]
  },
  {
   "cell_type": "code",
   "execution_count": 7,
   "metadata": {
    "id": "oJlNz7jNHOpo"
   },
   "outputs": [],
   "source": [
    "# lr decay function\n",
    "def lr_decay(epoch):\n",
    "  return 0.01 * math.pow(0.666, epoch)\n",
    "\n",
    "# lr schedule callback\n",
    "lr_decay_callback = tf.keras.callbacks.LearningRateScheduler(lr_decay, verbose=True)\n",
    "\n",
    "# important to see what you are doing\n",
    "#plot_learning_rate(lr_decay, EPOCHS)"
   ]
  },
  {
   "cell_type": "code",
   "execution_count": 8,
   "metadata": {
    "colab": {
     "base_uri": "https://localhost:8080/"
    },
    "id": "STLF26MXHRc3",
    "outputId": "f1a23d39-8f7c-4984-cc4a-fdb18c85570c"
   },
   "outputs": [
    {
     "name": "stdout",
     "output_type": "stream",
     "text": [
      "Steps per epoch:  937\n"
     ]
    }
   ],
   "source": [
    "steps_per_epoch = 60000//BATCH_SIZE  # 60,000 items in this dataset\n",
    "print(\"Steps per epoch: \", steps_per_epoch)\n",
    "\n",
    "plot_training = PlotTraining(sample_rate=10, zoom=1)"
   ]
  },
  {
   "cell_type": "code",
   "execution_count": 9,
   "metadata": {
    "id": "B-VqjLEGMXCs"
   },
   "outputs": [],
   "source": [
    "data_augmentation = tf.keras.Sequential([\n",
    "  tf.keras.layers.Reshape(input_shape=(28 * 28,), target_shape=(28, 28, 1)),\n",
    "  tf.keras.layers.experimental.preprocessing.RandomHeight(0.2),\n",
    "  tf.keras.layers.experimental.preprocessing.RandomRotation((-0.05, 0.05)),\n",
    "])"
   ]
  },
  {
   "cell_type": "code",
   "execution_count": 10,
   "metadata": {
    "colab": {
     "base_uri": "https://localhost:8080/",
     "height": 772
    },
    "id": "ijdwkUOiMjxp",
    "outputId": "aba8c98f-e045-4fc6-b66b-84331478593e"
   },
   "outputs": [
    {
     "data": {
      "image/png": "[encoded data removed]",
      "text/plain": [
       "<Figure size 360x288 with 1 Axes>"
      ]
     },
     "metadata": {},
     "output_type": "display_data"
    },
    {
     "ename": "NameError",
     "evalue": "name 'augmented_image' is not defined",
     "output_type": "error",
     "traceback": [
      "\u001b[0;31m---------------------------------------------------------------------------\u001b[0m",
      "\u001b[0;31mNameError\u001b[0m                                 Traceback (most recent call last)",
      "\u001b[0;32m<ipython-input-10-0c2734078033>\u001b[0m in \u001b[0;36m<module>\u001b[0;34m\u001b[0m\n\u001b[1;32m      8\u001b[0m   \u001b[0mplt\u001b[0m\u001b[0;34m.\u001b[0m\u001b[0mxticks\u001b[0m\u001b[0;34m(\u001b[0m\u001b[0;34m[\u001b[0m\u001b[0;34m]\u001b[0m\u001b[0;34m)\u001b[0m\u001b[0;34m\u001b[0m\u001b[0;34m\u001b[0m\u001b[0m\n\u001b[1;32m      9\u001b[0m   \u001b[0mplt\u001b[0m\u001b[0;34m.\u001b[0m\u001b[0myticks\u001b[0m\u001b[0;34m(\u001b[0m\u001b[0;34m[\u001b[0m\u001b[0;34m]\u001b[0m\u001b[0;34m)\u001b[0m\u001b[0;34m\u001b[0m\u001b[0;34m\u001b[0m\u001b[0m\n\u001b[0;32m---> 10\u001b[0;31m   \u001b[0maugmented_image\u001b[0m \u001b[0;34m=\u001b[0m \u001b[0mnp\u001b[0m\u001b[0;34m.\u001b[0m\u001b[0msqueeze\u001b[0m\u001b[0;34m(\u001b[0m\u001b[0maugmented_image\u001b[0m\u001b[0;34m)\u001b[0m\u001b[0;34m\u001b[0m\u001b[0;34m\u001b[0m\u001b[0m\n\u001b[0m\u001b[1;32m     11\u001b[0m   \u001b[0mplt\u001b[0m\u001b[0;34m.\u001b[0m\u001b[0mimshow\u001b[0m\u001b[0;34m(\u001b[0m\u001b[0maugmented_image\u001b[0m\u001b[0;34m)\u001b[0m\u001b[0;34m\u001b[0m\u001b[0;34m\u001b[0m\u001b[0m\n\u001b[1;32m     12\u001b[0m   \u001b[0mplt\u001b[0m\u001b[0;34m.\u001b[0m\u001b[0maxis\u001b[0m\u001b[0;34m(\u001b[0m\u001b[0;34m\"off\"\u001b[0m\u001b[0;34m)\u001b[0m\u001b[0;34m\u001b[0m\u001b[0;34m\u001b[0m\u001b[0m\n",
      "\u001b[0;31mNameError\u001b[0m: name 'augmented_image' is not defined"
     ]
    }
   ],
   "source": [
    "plt.figure(figsize=(5, 4))\n",
    "plt.imshow(train_img[0])\n",
    "plt.show()\n",
    "# image = train_img[0]\n",
    "for i in range(9):\n",
    "#   augmented_image = data_augmentation(image)\n",
    "  ax = plt.subplot(3, 3, i + 1)\n",
    "  plt.xticks([])\n",
    "  plt.yticks([])\n",
    "  augmented_image = np.squeeze(augmented_image)\n",
    "  plt.imshow(augmented_image)\n",
    "  plt.axis(\"off\")\n",
    "plt.show()"
   ]
  },
  {
   "cell_type": "code",
   "execution_count": 11,
   "metadata": {
    "id": "P6bM9ZjOXagC"
   },
   "outputs": [],
   "source": [
    "data_augmentation = tf.keras.Sequential([\n",
    "  tf.keras.layers.Reshape(input_shape=(28 * 28,), target_shape=(28, 28, 1)),\n",
    "  tf.keras.layers.experimental.preprocessing.RandomHeight(0.2),\n",
    "  tf.keras.layers.experimental.preprocessing.RandomRotation((-0.05, 0.05)),\n",
    "  tf.keras.layers.Reshape(input_shape=(28, 28, 1), target_shape=(28, 28, 1)),\n",
    "])"
   ]
  },
  {
   "cell_type": "code",
   "execution_count": 12,
   "metadata": {
    "colab": {
     "base_uri": "https://localhost:8080/"
    },
    "id": "qMYcVvRUX5_k",
    "outputId": "c2b9cae4-3ab3-4814-8a9a-74549de9ea6a"
   },
   "outputs": [
    {
     "data": {
      "text/plain": [
       "(None, 28, 28, 1)"
      ]
     },
     "execution_count": 12,
     "metadata": {},
     "output_type": "execute_result"
    }
   ],
   "source": [
    "data_augmentation.output_shape"
   ]
  },
  {
   "cell_type": "code",
   "execution_count": 14,
   "metadata": {},
   "outputs": [],
   "source": [
    "filters1 = [10, 10, 12, 24, 24, 32, 32]\n",
    "filters2 = [20, 30, 32, 48, 48, 48, 64]\n",
    "filters3 = [30, 60, 48, 48, 64, 64, 64]\n",
    "results = [[ [] for _ in range(2) ] for _ in range(len(filters1))]"
   ]
  },
  {
   "cell_type": "code",
   "execution_count": 15,
   "metadata": {
    "id": "56y8UNFQIVwj"
   },
   "outputs": [
    {
     "data": {
      "image/png": "[encoded data removed]",
      "text/plain": [
       "<Figure size 1152x504 with 2 Axes>"
      ]
     },
     "metadata": {},
     "output_type": "display_data"
    },
    {
     "name": "stdout",
     "output_type": "stream",
     "text": [
      "937/937 [==============================] - 148s 158ms/step - loss: 0.0014 - accuracy: 0.9997 - val_loss: 0.1389 - val_accuracy: 0.9720\n",
      "filter1:  32 filter2: 64 filter3: 64\n",
      "Train loss: 0.20827454328536987\n",
      "Train accuracy: 0.9367162585258484\n",
      "Validation loss: 0.29453521966934204\n",
      "Validation accuracy: 0.9217000007629395\n",
      "\n",
      "\n",
      "-------------------------------------------------------------------\n",
      "\n",
      "\n"
     ]
    }
   ],
   "source": [
    "for i in range(len(filters1)):\n",
    "    print(\"Iteration num: \", str(i), \"\\n\")\n",
    "    model = tf.keras.Sequential(\n",
    "      [\n",
    "          tf.keras.layers.Reshape(input_shape=(28 * 28,), target_shape=(28, 28, 1)),\n",
    "\n",
    "          tf.keras.layers.Conv2D(kernel_size=3, filters=filters1[i], use_bias=False, padding='same'),\n",
    "          tf.keras.layers.BatchNormalization(center=True, scale=False),\n",
    "          tf.keras.layers.Activation('relu'),\n",
    "\n",
    "          tf.keras.layers.Conv2D(kernel_size=6, filters=filters2[i], use_bias=False, padding='same', strides=2),\n",
    "          tf.keras.layers.BatchNormalization(center=True, scale=False),\n",
    "          tf.keras.layers.Activation('relu'),\n",
    "\n",
    "          tf.keras.layers.Conv2D(kernel_size=6, filters=filters3[i], use_bias=False, padding='same', strides=2),\n",
    "          tf.keras.layers.BatchNormalization(center=True, scale=False),\n",
    "          tf.keras.layers.Activation('relu'),\n",
    "\n",
    "          tf.keras.layers.Flatten(),\n",
    "\n",
    "          tf.keras.layers.Dense(200, use_bias=False),\n",
    "          tf.keras.layers.BatchNormalization(center=True, scale=False),\n",
    "          tf.keras.layers.Activation('relu'),\n",
    "\n",
    "          tf.keras.layers.Dropout(0.3),\n",
    "          tf.keras.layers.Dense(10, activation='softmax')\n",
    "      ])\n",
    "\n",
    "    model.compile(optimizer=tf.keras.optimizers.Adam(lr=0.01),\n",
    "                  loss='categorical_crossentropy',\n",
    "                  metrics=['accuracy'])\n",
    "    \n",
    "    history = model.fit(training_dataset, \n",
    "              steps_per_epoch=steps_per_epoch, \n",
    "              epochs=EPOCHS,\n",
    "              validation_data=validation_dataset, \n",
    "              validation_steps=1, \n",
    "              callbacks=[plot_training, lr_decay_callback])\n",
    "    \n",
    "    filters_values = str(filters1[i]) + \" filter2: \" + str(filters2[i]) + \" filter3: \" + str(filters3[i])\n",
    "    results[i][0].append(history.history)\n",
    "    results[i][1].append(filters_values)\n",
    "\n",
    "    print(\"filter1: \", filters_values)\n",
    "    print('Train loss:', history.history['loss'][0])\n",
    "    print('Train accuracy:', history.history['accuracy'][0])\n",
    "    print('Validation loss:', history.history['val_loss'][0])\n",
    "    print('Validation accuracy:', history.history['val_accuracy'][0])\n",
    "    print('\\n')\n",
    "    print('-------------------------------------------------------------------')\n",
    "    print('\\n')\n"
   ]
  },
  {
   "cell_type": "code",
   "execution_count": 16,
   "metadata": {},
   "outputs": [
    {
     "name": "stdout",
     "output_type": "stream",
     "text": [
      "[[[{'loss': [0.20057708024978638, 0.06484201550483704, 0.0368637777864933, 0.02111191861331463, 0.012026292271912098, 0.00867269467562437, 0.006123316939920187, 0.004829054698348045, 0.0037756776437163353, 0.0026547994930297136], 'accuracy': [0.9388673901557922, 0.9806563258171082, 0.9886606335639954, 0.9934465289115906, 0.9961146116256714, 0.9976654052734375, 0.9984491467475891, 0.9986159205436707, 0.9988994002342224, 0.9994663596153259], 'val_loss': [0.3002719581127167, 0.19961227476596832, 0.15939976274967194, 0.14120349287986755, 0.17183420062065125, 0.15461568534374237, 0.15622876584529877, 0.15543018281459808, 0.15309669077396393, 0.1537398248910904], 'val_accuracy': [0.9164000153541565, 0.9484000205993652, 0.9607999920845032, 0.9664999842643738, 0.9639000296592712, 0.9672999978065491, 0.9688000082969666, 0.9682000279426575, 0.9690999984741211, 0.9693999886512756], 'lr': [0.01, 0.00666, 0.00443556, 0.002954083, 0.0019674192, 0.0013103012, 0.0008726606, 0.00058119197, 0.00038707384, 0.0002577912]}], ['10 filter2: 20 filter3: 30']], [[{'loss': [0.21201737225055695, 0.06310775130987167, 0.03361579403281212, 0.01926211453974247, 0.010751266963779926, 0.006788134574890137, 0.004590206779539585, 0.0032037170603871346, 0.0023569853510707617, 0.0018903636373579502], 'accuracy': [0.934281587600708, 0.9812233448028564, 0.9891608953475952, 0.9938967227935791, 0.9969316720962524, 0.9979488849639893, 0.9989160895347595, 0.9991828799247742, 0.9994997382164001, 0.9997332096099854], 'val_loss': [0.26613590121269226, 0.3015422821044922, 0.16185788810253143, 0.12690986692905426, 0.13434292376041412, 0.13329720497131348, 0.12126410007476807, 0.12765756249427795, 0.13122685253620148, 0.13191910088062286], 'val_accuracy': [0.928600013256073, 0.926800012588501, 0.9592000246047974, 0.9690999984741211, 0.968500018119812, 0.9710000157356262, 0.9739999771118164, 0.9732999801635742, 0.9743000268936157, 0.9728000164031982], 'lr': [0.01, 0.00666, 0.00443556, 0.002954083, 0.0019674192, 0.0013103012, 0.0008726606, 0.00058119197, 0.00038707384, 0.0002577912]}], ['10 filter2: 30 filter3: 60']], [[{'loss': [0.20273149013519287, 0.06377764791250229, 0.03426990658044815, 0.017422817647457123, 0.010161013342440128, 0.006516633555293083, 0.0042555020190775394, 0.00275983102619648, 0.0021569333039224148, 0.0017189346253871918], 'accuracy': [0.9375333786010742, 0.9808230996131897, 0.9893609881401062, 0.9944637417793274, 0.997098445892334, 0.9979989528656006, 0.9986993074417114, 0.9994330406188965, 0.9996164441108704, 0.9997498393058777], 'val_loss': [0.3277556598186493, 0.19171686470508575, 0.16044536232948303, 0.1503429412841797, 0.14312514662742615, 0.14069673418998718, 0.14981018006801605, 0.14015471935272217, 0.14790178835391998, 0.147962287068367], 'val_accuracy': [0.9053000211715698, 0.9470000267028809, 0.9605000019073486, 0.9648000001907349, 0.967199981212616, 0.9700000286102295, 0.9681000113487244, 0.9711999893188477, 0.9710999727249146, 0.9715999960899353], 'lr': [0.01, 0.00666, 0.00443556, 0.002954083, 0.0019674192, 0.0013103012, 0.0008726606, 0.00058119197, 0.00038707384, 0.0002577912]}], ['12 filter2: 32 filter3: 48']], [[{'loss': [0.20309528708457947, 0.06206013262271881, 0.035586003214120865, 0.019152624532580376, 0.011114000342786312, 0.006596027873456478, 0.004208146128803492, 0.0037652687169611454, 0.002210434293374419, 0.0017860715743154287], 'accuracy': [0.9388673901557922, 0.980339527130127, 0.9888607263565063, 0.9940968751907349, 0.9967482686042786, 0.9978988766670227, 0.9989327788352966, 0.9989660978317261, 0.9995330572128296, 0.9996331334114075], 'val_loss': [0.43292543292045593, 0.181349977850914, 0.16487957537174225, 0.1534976065158844, 0.14936044812202454, 0.14875635504722595, 0.1679425835609436, 0.15577514469623566, 0.15397460758686066, 0.15530632436275482], 'val_accuracy': [0.9010000228881836, 0.9549999833106995, 0.9605000019073486, 0.9660000205039978, 0.9677000045776367, 0.9670000076293945, 0.9678000211715698, 0.9696999788284302, 0.9693999886512756, 0.9690999984741211], 'lr': [0.01, 0.00666, 0.00443556, 0.002954083, 0.0019674192, 0.0013103012, 0.0008726606, 0.00058119197, 0.00038707384, 0.0002577912]}], ['24 filter2: 48 filter3: 48']], [[{'loss': [0.2052987962961197, 0.059990331530570984, 0.033377598971128464, 0.01695336028933525, 0.008864009752869606, 0.00538719492033124, 0.003538310993462801, 0.0026207694318145514, 0.0018302598036825657, 0.0015354176284745336], 'accuracy': [0.9366161823272705, 0.9817069172859192, 0.9896277785301208, 0.9949806332588196, 0.9972151517868042, 0.9984158277511597, 0.9991328716278076, 0.999483048915863, 0.9996498227119446, 0.9997165203094482], 'val_loss': [0.28489160537719727, 0.1923314929008484, 0.1340218037366867, 0.15367168188095093, 0.14439117908477783, 0.1420692801475525, 0.1373373419046402, 0.13614770770072937, 0.1449354737997055, 0.14531299471855164], 'val_accuracy': [0.9208999872207642, 0.9442999958992004, 0.9645000100135803, 0.9666000008583069, 0.9678999781608582, 0.968999981880188, 0.9710000157356262, 0.9713000059127808, 0.9713000059127808, 0.9713000059127808], 'lr': [0.01, 0.00666, 0.00443556, 0.002954083, 0.0019674192, 0.0013103012, 0.0008726606, 0.00058119197, 0.00038707384, 0.0002577912]}], ['24 filter2: 48 filter3: 64']], [[{'loss': [0.2038678377866745, 0.05969780683517456, 0.03096001036465168, 0.018009157851338387, 0.01018708385527134, 0.005725356750190258, 0.0032213192898780107, 0.0026909206062555313, 0.0017966930754482746, 0.001549696666188538], 'accuracy': [0.9361659288406372, 0.981473445892334, 0.9906116724014282, 0.9943469762802124, 0.9966815710067749, 0.9985826015472412, 0.9992329478263855, 0.9992329478263855, 0.9996331334114075, 0.9997165203094482], 'val_loss': [0.22098076343536377, 0.19944821298122406, 0.15238982439041138, 0.13252119719982147, 0.13102826476097107, 0.1295139640569687, 0.13257065415382385, 0.1310204416513443, 0.12804901599884033, 0.13335730135440826], 'val_accuracy': [0.9372000098228455, 0.9394999742507935, 0.963699996471405, 0.9682000279426575, 0.9699000120162964, 0.972000002861023, 0.9702000021934509, 0.9722999930381775, 0.972100019454956, 0.9722999930381775], 'lr': [0.01, 0.00666, 0.00443556, 0.002954083, 0.0019674192, 0.0013103012, 0.0008726606, 0.00058119197, 0.00038707384, 0.0002577912]}], ['32 filter2: 48 filter3: 64']], [[{'loss': [0.20827454328536987, 0.0617244653403759, 0.03448886796832085, 0.018534915521740913, 0.009798446670174599, 0.006819548085331917, 0.0037735493388026953, 0.0027532484382390976, 0.0017838203348219395, 0.001404289621859789], 'accuracy': [0.9367162585258484, 0.9812900424003601, 0.989244282245636, 0.9946638345718384, 0.9972318410873413, 0.99803227186203, 0.9989827871322632, 0.9993996620178223, 0.9996665120124817, 0.9997332096099854], 'val_loss': [0.29453521966934204, 0.15070967376232147, 0.1950758546590805, 0.1344296932220459, 0.14631162583827972, 0.14395971596240997, 0.13060906529426575, 0.1389731764793396, 0.1402568221092224, 0.13892629742622375], 'val_accuracy': [0.9217000007629395, 0.9578999876976013, 0.9531999826431274, 0.9681000113487244, 0.9672999978065491, 0.9706000089645386, 0.9714000225067139, 0.9715999960899353, 0.970300018787384, 0.972000002861023], 'lr': [0.01, 0.00666, 0.00443556, 0.002954083, 0.0019674192, 0.0013103012, 0.0008726606, 0.00058119197, 0.00038707384, 0.0002577912]}], ['32 filter2: 64 filter3: 64']]]\n"
     ]
    }
   ],
   "source": [
    "print(results)"
   ]
  },
  {
   "cell_type": "code",
   "execution_count": null,
   "metadata": {},
   "outputs": [],
   "source": []
  }
 ],
 "metadata": {
  "accelerator": "GPU",
  "colab": {
   "collapsed_sections": [],
   "name": "keras_05_mnist_batch_norm.ipynb",
   "provenance": []
  },
  "environment": {
   "name": "tf22-gpu.2-2.m47",
   "type": "gcloud",
   "uri": "gcr.io/deeplearning-platform-release/tf22-gpu.2-2:m47"
  },
  "kernelspec": {
   "display_name": "Python 3",
   "language": "python",
   "name": "python3"
  },
  "language_info": {
   "codemirror_mode": {
    "name": "ipython",
    "version": 3
   },
   "file_extension": ".py",
   "mimetype": "text/x-python",
   "name": "python",
   "nbconvert_exporter": "python",
   "pygments_lexer": "ipython3",
   "version": "3.8.5"
  }
 },
 "nbformat": 4,
 "nbformat_minor": 1
}
